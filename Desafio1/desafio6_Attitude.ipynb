{
  "nbformat": 4,
  "nbformat_minor": 0,
  "metadata": {
    "colab": {
      "provenance": [],
      "authorship_tag": "ABX9TyMlWNufRvXTJ3os7lUnQXPN",
      "include_colab_link": true
    },
    "kernelspec": {
      "name": "python3",
      "display_name": "Python 3"
    },
    "language_info": {
      "name": "python"
    }
  },
  "cells": [
    {
      "cell_type": "markdown",
      "metadata": {
        "id": "view-in-github",
        "colab_type": "text"
      },
      "source": [
        "<a href=\"https://colab.research.google.com/github/devLarissaRodrigues/WoMakersCode-DataAnalytics-Desafio1/blob/desafio6-Attitude/desafio6_Attitude.ipynb\" target=\"_parent\"><img src=\"https://colab.research.google.com/assets/colab-badge.svg\" alt=\"Open In Colab\"/></a>"
      ]
    },
    {
      "cell_type": "code",
      "execution_count": 1,
      "metadata": {
        "id": "gUb4a7NsE39_",
        "outputId": "6e7abcfc-f525-47d1-c1bd-035355c3135d",
        "colab": {
          "base_uri": "https://localhost:8080/"
        }
      },
      "outputs": [
        {
          "output_type": "stream",
          "name": "stdout",
          "text": [
            "Collecting pydataset\n",
            "  Downloading pydataset-0.2.0.tar.gz (15.9 MB)\n",
            "\u001b[2K     \u001b[90m━━━━━━━━━━━━━━━━━━━━━━━━━━━━━━━━━━━━━━━━\u001b[0m \u001b[32m15.9/15.9 MB\u001b[0m \u001b[31m28.8 MB/s\u001b[0m eta \u001b[36m0:00:00\u001b[0m\n",
            "\u001b[?25h  Preparing metadata (setup.py) ... \u001b[?25l\u001b[?25hdone\n",
            "Requirement already satisfied: pandas in /usr/local/lib/python3.11/dist-packages (from pydataset) (2.2.2)\n",
            "Requirement already satisfied: numpy>=1.23.2 in /usr/local/lib/python3.11/dist-packages (from pandas->pydataset) (1.26.4)\n",
            "Requirement already satisfied: python-dateutil>=2.8.2 in /usr/local/lib/python3.11/dist-packages (from pandas->pydataset) (2.8.2)\n",
            "Requirement already satisfied: pytz>=2020.1 in /usr/local/lib/python3.11/dist-packages (from pandas->pydataset) (2025.1)\n",
            "Requirement already satisfied: tzdata>=2022.7 in /usr/local/lib/python3.11/dist-packages (from pandas->pydataset) (2025.1)\n",
            "Requirement already satisfied: six>=1.5 in /usr/local/lib/python3.11/dist-packages (from python-dateutil>=2.8.2->pandas->pydataset) (1.17.0)\n",
            "Building wheels for collected packages: pydataset\n",
            "  Building wheel for pydataset (setup.py) ... \u001b[?25l\u001b[?25hdone\n",
            "  Created wheel for pydataset: filename=pydataset-0.2.0-py3-none-any.whl size=15939417 sha256=5402d8698858fe425dff7a42cae31329bd9f9030c4006f817ee867ca0a7bab18\n",
            "  Stored in directory: /root/.cache/pip/wheels/29/93/3f/af54c413cecaac292940342c61882d2a8848674175d0bb0889\n",
            "Successfully built pydataset\n",
            "Installing collected packages: pydataset\n",
            "Successfully installed pydataset-0.2.0\n"
          ]
        }
      ],
      "source": [
        "!pip install pydataset"
      ]
    },
    {
      "cell_type": "code",
      "source": [
        "import pandas as pd\n",
        "from pydataset import data"
      ],
      "metadata": {
        "id": "3-0fBYwPJWfx",
        "outputId": "b7d1c033-c478-44ab-8268-2a9374695121",
        "colab": {
          "base_uri": "https://localhost:8080/"
        }
      },
      "execution_count": 2,
      "outputs": [
        {
          "output_type": "stream",
          "name": "stdout",
          "text": [
            "initiated datasets repo at: /root/.pydataset/\n"
          ]
        }
      ]
    },
    {
      "cell_type": "code",
      "source": [
        "# Importando o dataset:\n",
        "df = data('attitude')\n",
        "print(df)"
      ],
      "metadata": {
        "id": "fG2780XJJbRj",
        "outputId": "f4ed1a91-1050-49fe-b88a-44afa0e4dbd8",
        "colab": {
          "base_uri": "https://localhost:8080/"
        }
      },
      "execution_count": 5,
      "outputs": [
        {
          "output_type": "stream",
          "name": "stdout",
          "text": [
            "    rating  complaints  privileges  learning  raises  critical  advance\n",
            "1       43          51          30        39      61        92       45\n",
            "2       63          64          51        54      63        73       47\n",
            "3       71          70          68        69      76        86       48\n",
            "4       61          63          45        47      54        84       35\n",
            "5       81          78          56        66      71        83       47\n",
            "6       43          55          49        44      54        49       34\n",
            "7       58          67          42        56      66        68       35\n",
            "8       71          75          50        55      70        66       41\n",
            "9       72          82          72        67      71        83       31\n",
            "10      67          61          45        47      62        80       41\n",
            "11      64          53          53        58      58        67       34\n",
            "12      67          60          47        39      59        74       41\n",
            "13      69          62          57        42      55        63       25\n",
            "14      68          83          83        45      59        77       35\n",
            "15      77          77          54        72      79        77       46\n",
            "16      81          90          50        72      60        54       36\n",
            "17      74          85          64        69      79        79       63\n",
            "18      65          60          65        75      55        80       60\n",
            "19      65          70          46        57      75        85       46\n",
            "20      50          58          68        54      64        78       52\n",
            "21      50          40          33        34      43        64       33\n",
            "22      64          61          52        62      66        80       41\n",
            "23      53          66          52        50      63        80       37\n",
            "24      40          37          42        58      50        57       49\n",
            "25      63          54          42        48      66        75       33\n",
            "26      66          77          66        63      88        76       72\n",
            "27      78          75          58        74      80        78       49\n",
            "28      48          57          44        45      51        83       38\n",
            "29      85          85          71        71      77        74       55\n",
            "30      82          82          39        59      64        78       39\n"
          ]
        }
      ]
    },
    {
      "cell_type": "code",
      "source": [
        "# 1. Calcule a média de \"aprendizado\" (learning) por nível de motivação (rating).\n"
      ],
      "metadata": {
        "id": "nopjA5b4JioP"
      },
      "execution_count": 6,
      "outputs": []
    },
    {
      "cell_type": "code",
      "source": [
        "# 2. Encontre a combinação de rating e complaints que possui o maior valor médio de aprendizado.\n"
      ],
      "metadata": {
        "id": "Uf7pCz-eJnMy"
      },
      "execution_count": 7,
      "outputs": []
    },
    {
      "cell_type": "code",
      "source": [
        "# 3. Qual é o nível médio de aprendizado para funcionários que receberam aumentos (raises) acima da média?\n"
      ],
      "metadata": {
        "id": "lzojSZoqJqXk"
      },
      "execution_count": null,
      "outputs": []
    }
  ]
}