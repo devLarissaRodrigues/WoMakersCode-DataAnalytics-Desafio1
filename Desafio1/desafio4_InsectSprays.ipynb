{
  "nbformat": 4,
  "nbformat_minor": 0,
  "metadata": {
    "colab": {
      "provenance": [],
      "include_colab_link": true
    },
    "kernelspec": {
      "name": "python3",
      "display_name": "Python 3"
    },
    "language_info": {
      "name": "python"
    }
  },
  "cells": [
    {
      "cell_type": "markdown",
      "metadata": {
        "id": "view-in-github",
        "colab_type": "text"
      },
      "source": [
        "<a href=\"https://colab.research.google.com/github/devLarissaRodrigues/WoMakersCode-DataAnalytics-Desafio1/blob/desafio4-InsectSprays/desafio4_InsectSprays.ipynb\" target=\"_parent\"><img src=\"https://colab.research.google.com/assets/colab-badge.svg\" alt=\"Open In Colab\"/></a>"
      ]
    },
    {
      "cell_type": "code",
      "execution_count": 2,
      "metadata": {
        "id": "fa6paX1fE2xq",
        "outputId": "5ad0445f-10a1-4fd9-b7d1-6128e99497c7",
        "colab": {
          "base_uri": "https://localhost:8080/"
        }
      },
      "outputs": [
        {
          "output_type": "stream",
          "name": "stdout",
          "text": [
            "Collecting pydataset\n",
            "  Downloading pydataset-0.2.0.tar.gz (15.9 MB)\n",
            "\u001b[2K     \u001b[90m━━━━━━━━━━━━━━━━━━━━━━━━━━━━━━━━━━━━━━━━\u001b[0m \u001b[32m15.9/15.9 MB\u001b[0m \u001b[31m4.0 MB/s\u001b[0m eta \u001b[36m0:00:00\u001b[0m\n",
            "\u001b[?25h  Preparing metadata (setup.py) ... \u001b[?25l\u001b[?25hdone\n",
            "Requirement already satisfied: pandas in /usr/local/lib/python3.11/dist-packages (from pydataset) (2.2.2)\n",
            "Requirement already satisfied: numpy>=1.23.2 in /usr/local/lib/python3.11/dist-packages (from pandas->pydataset) (1.26.4)\n",
            "Requirement already satisfied: python-dateutil>=2.8.2 in /usr/local/lib/python3.11/dist-packages (from pandas->pydataset) (2.8.2)\n",
            "Requirement already satisfied: pytz>=2020.1 in /usr/local/lib/python3.11/dist-packages (from pandas->pydataset) (2025.1)\n",
            "Requirement already satisfied: tzdata>=2022.7 in /usr/local/lib/python3.11/dist-packages (from pandas->pydataset) (2025.1)\n",
            "Requirement already satisfied: six>=1.5 in /usr/local/lib/python3.11/dist-packages (from python-dateutil>=2.8.2->pandas->pydataset) (1.17.0)\n",
            "Building wheels for collected packages: pydataset\n",
            "  Building wheel for pydataset (setup.py) ... \u001b[?25l\u001b[?25hdone\n",
            "  Created wheel for pydataset: filename=pydataset-0.2.0-py3-none-any.whl size=15939417 sha256=f6c2e3fe0af9a11ed387887341bc81c1e5e0ab35c31be2d8e02f348ce29e6edb\n",
            "  Stored in directory: /root/.cache/pip/wheels/29/93/3f/af54c413cecaac292940342c61882d2a8848674175d0bb0889\n",
            "Successfully built pydataset\n",
            "Installing collected packages: pydataset\n",
            "Successfully installed pydataset-0.2.0\n"
          ]
        }
      ],
      "source": [
        "!pip install pydataset"
      ]
    },
    {
      "cell_type": "code",
      "source": [
        "import pandas as pd\n",
        "from pydataset import data"
      ],
      "metadata": {
        "id": "K8TJQjIUFFW1",
        "colab": {
          "base_uri": "https://localhost:8080/"
        },
        "outputId": "22dd6587-09dd-4650-bae2-e0fd411f9414"
      },
      "execution_count": 3,
      "outputs": [
        {
          "output_type": "stream",
          "name": "stdout",
          "text": [
            "initiated datasets repo at: /root/.pydataset/\n"
          ]
        }
      ]
    },
    {
      "cell_type": "code",
      "source": [
        "# Importando o dataset\n",
        "df = data('InsectSprays')\n",
        "print(df)"
      ],
      "metadata": {
        "id": "Js7df7HUGDpQ",
        "outputId": "50318625-ca89-4e3d-9326-29a2675a06a5",
        "colab": {
          "base_uri": "https://localhost:8080/"
        }
      },
      "execution_count": null,
      "outputs": [
        {
          "output_type": "stream",
          "name": "stdout",
          "text": [
            "    count spray\n",
            "1      10     A\n",
            "2       7     A\n",
            "3      20     A\n",
            "4      14     A\n",
            "5      14     A\n",
            "6      12     A\n",
            "7      10     A\n",
            "8      23     A\n",
            "9      17     A\n",
            "10     20     A\n",
            "11     14     A\n",
            "12     13     A\n",
            "13     11     B\n",
            "14     17     B\n",
            "15     21     B\n",
            "16     11     B\n",
            "17     16     B\n",
            "18     14     B\n",
            "19     17     B\n",
            "20     17     B\n",
            "21     19     B\n",
            "22     21     B\n",
            "23      7     B\n",
            "24     13     B\n",
            "25      0     C\n",
            "26      1     C\n",
            "27      7     C\n",
            "28      2     C\n",
            "29      3     C\n",
            "30      1     C\n",
            "31      2     C\n",
            "32      1     C\n",
            "33      3     C\n",
            "34      0     C\n",
            "35      1     C\n",
            "36      4     C\n",
            "37      3     D\n",
            "38      5     D\n",
            "39     12     D\n",
            "40      6     D\n",
            "41      4     D\n",
            "42      3     D\n",
            "43      5     D\n",
            "44      5     D\n",
            "45      5     D\n",
            "46      5     D\n",
            "47      2     D\n",
            "48      4     D\n",
            "49      3     E\n",
            "50      5     E\n",
            "51      3     E\n",
            "52      5     E\n",
            "53      3     E\n",
            "54      6     E\n",
            "55      1     E\n",
            "56      1     E\n",
            "57      3     E\n",
            "58      2     E\n",
            "59      6     E\n",
            "60      4     E\n",
            "61     11     F\n",
            "62      9     F\n",
            "63     15     F\n",
            "64     22     F\n",
            "65     15     F\n",
            "66     16     F\n",
            "67     13     F\n",
            "68     10     F\n",
            "69     26     F\n",
            "70     26     F\n",
            "71     24     F\n",
            "72     13     F\n"
          ]
        }
      ]
    },
    {
      "cell_type": "code",
      "source": [
        "# 1. Calcule o número total de insetos mortos (count) por tipo de spray (spray).\n",
        "\n",
        "df = data('InsectSprays')\n",
        "total_mortos = df.groupby('spray')['count'].sum()\n",
        "\n",
        "print(total_mortos)\n"
      ],
      "metadata": {
        "id": "SfJ0xGl8GP5X",
        "colab": {
          "base_uri": "https://localhost:8080/"
        },
        "outputId": "99dd7881-a40f-43f0-9c97-b343855b700e"
      },
      "execution_count": 7,
      "outputs": [
        {
          "output_type": "stream",
          "name": "stdout",
          "text": [
            "spray\n",
            "A    174\n",
            "B    184\n",
            "C     25\n",
            "D     59\n",
            "E     42\n",
            "F    200\n",
            "Name: count, dtype: int64\n"
          ]
        }
      ]
    },
    {
      "cell_type": "code",
      "source": [
        "# 2. Identifique qual spray foi o mais eficaz em matar insetos.\n",
        "\n",
        "total_mortos = df.groupby('spray')['count'].sum().idxmax()\n",
        "print(total_mortos)\n"
      ],
      "metadata": {
        "id": "xMckGI4AGWgL",
        "colab": {
          "base_uri": "https://localhost:8080/"
        },
        "outputId": "7bf6b3ca-c7c9-4cac-ad0f-793922a15fcc"
      },
      "execution_count": 8,
      "outputs": [
        {
          "output_type": "stream",
          "name": "stdout",
          "text": [
            "F\n"
          ]
        }
      ]
    },
    {
      "cell_type": "code",
      "source": [
        "# 3. Calcule a média geral e filtre os dados para mostrar apenas sprays com eficácia acima da média.\n",
        "\n",
        "media = df['count'].mean()\n",
        "print(media)"
      ],
      "metadata": {
        "id": "UN3UkEkBGZQk",
        "colab": {
          "base_uri": "https://localhost:8080/"
        },
        "outputId": "f584fb92-6dca-4f29-ac3b-ea62af3eaec4"
      },
      "execution_count": 9,
      "outputs": [
        {
          "output_type": "stream",
          "name": "stdout",
          "text": [
            "9.5\n"
          ]
        }
      ]
    }
  ]
}