{
  "nbformat": 4,
  "nbformat_minor": 0,
  "metadata": {
    "colab": {
      "provenance": [],
      "authorship_tag": "ABX9TyO+DB38Mz7t1May5CrKy0Jz",
      "include_colab_link": true
    },
    "kernelspec": {
      "name": "python3",
      "display_name": "Python 3"
    },
    "language_info": {
      "name": "python"
    }
  },
  "cells": [
    {
      "cell_type": "markdown",
      "metadata": {
        "id": "view-in-github",
        "colab_type": "text"
      },
      "source": [
        "<a href=\"https://colab.research.google.com/github/devLarissaRodrigues/WoMakersCode-DataAnalytics-Desafio1/blob/desafio5-Chicktws/desafio5_Chicktws.ipynb\" target=\"_parent\"><img src=\"https://colab.research.google.com/assets/colab-badge.svg\" alt=\"Open In Colab\"/></a>"
      ]
    },
    {
      "cell_type": "code",
      "execution_count": 1,
      "metadata": {
        "id": "JPiwsnEtE2te",
        "outputId": "17394888-ff98-483c-ad31-d70d28b11df5",
        "colab": {
          "base_uri": "https://localhost:8080/"
        }
      },
      "outputs": [
        {
          "output_type": "stream",
          "name": "stdout",
          "text": [
            "Collecting pydataset\n",
            "  Downloading pydataset-0.2.0.tar.gz (15.9 MB)\n",
            "\u001b[2K     \u001b[90m━━━━━━━━━━━━━━━━━━━━━━━━━━━━━━━━━━━━━━━━\u001b[0m \u001b[32m15.9/15.9 MB\u001b[0m \u001b[31m32.7 MB/s\u001b[0m eta \u001b[36m0:00:00\u001b[0m\n",
            "\u001b[?25h  Preparing metadata (setup.py) ... \u001b[?25l\u001b[?25hdone\n",
            "Requirement already satisfied: pandas in /usr/local/lib/python3.11/dist-packages (from pydataset) (2.2.2)\n",
            "Requirement already satisfied: numpy>=1.23.2 in /usr/local/lib/python3.11/dist-packages (from pandas->pydataset) (1.26.4)\n",
            "Requirement already satisfied: python-dateutil>=2.8.2 in /usr/local/lib/python3.11/dist-packages (from pandas->pydataset) (2.8.2)\n",
            "Requirement already satisfied: pytz>=2020.1 in /usr/local/lib/python3.11/dist-packages (from pandas->pydataset) (2025.1)\n",
            "Requirement already satisfied: tzdata>=2022.7 in /usr/local/lib/python3.11/dist-packages (from pandas->pydataset) (2025.1)\n",
            "Requirement already satisfied: six>=1.5 in /usr/local/lib/python3.11/dist-packages (from python-dateutil>=2.8.2->pandas->pydataset) (1.17.0)\n",
            "Building wheels for collected packages: pydataset\n",
            "  Building wheel for pydataset (setup.py) ... \u001b[?25l\u001b[?25hdone\n",
            "  Created wheel for pydataset: filename=pydataset-0.2.0-py3-none-any.whl size=15939417 sha256=a58b6c523556987d99a6c160734ff14ac92bb9d5e16bf244efd9debd24daf157\n",
            "  Stored in directory: /root/.cache/pip/wheels/29/93/3f/af54c413cecaac292940342c61882d2a8848674175d0bb0889\n",
            "Successfully built pydataset\n",
            "Installing collected packages: pydataset\n",
            "Successfully installed pydataset-0.2.0\n"
          ]
        }
      ],
      "source": [
        "!pip install pydataset"
      ]
    },
    {
      "cell_type": "code",
      "source": [
        "import pandas as pd\n",
        "from pydataset import data"
      ],
      "metadata": {
        "id": "82pszL4SHMKS",
        "outputId": "72f037e9-768f-4218-bd29-45ee19d0778b",
        "colab": {
          "base_uri": "https://localhost:8080/"
        }
      },
      "execution_count": 2,
      "outputs": [
        {
          "output_type": "stream",
          "name": "stdout",
          "text": [
            "initiated datasets repo at: /root/.pydataset/\n"
          ]
        }
      ]
    },
    {
      "cell_type": "code",
      "source": [
        "# Importando o dataset:\n",
        "df = data('chickwts')\n",
        "print(df)"
      ],
      "metadata": {
        "id": "XE32YUdBHQRj",
        "outputId": "69840d8e-4134-406e-d91a-9ac75c94b63d",
        "colab": {
          "base_uri": "https://localhost:8080/"
        }
      },
      "execution_count": 8,
      "outputs": [
        {
          "output_type": "stream",
          "name": "stdout",
          "text": [
            "    weight       feed\n",
            "1      179  horsebean\n",
            "2      160  horsebean\n",
            "3      136  horsebean\n",
            "4      227  horsebean\n",
            "5      217  horsebean\n",
            "6      168  horsebean\n",
            "7      108  horsebean\n",
            "8      124  horsebean\n",
            "9      143  horsebean\n",
            "10     140  horsebean\n",
            "11     309    linseed\n",
            "12     229    linseed\n",
            "13     181    linseed\n",
            "14     141    linseed\n",
            "15     260    linseed\n",
            "16     203    linseed\n",
            "17     148    linseed\n",
            "18     169    linseed\n",
            "19     213    linseed\n",
            "20     257    linseed\n",
            "21     244    linseed\n",
            "22     271    linseed\n",
            "23     243    soybean\n",
            "24     230    soybean\n",
            "25     248    soybean\n",
            "26     327    soybean\n",
            "27     329    soybean\n",
            "28     250    soybean\n",
            "29     193    soybean\n",
            "30     271    soybean\n",
            "31     316    soybean\n",
            "32     267    soybean\n",
            "33     199    soybean\n",
            "34     171    soybean\n",
            "35     158    soybean\n",
            "36     248    soybean\n",
            "37     423  sunflower\n",
            "38     340  sunflower\n",
            "39     392  sunflower\n",
            "40     339  sunflower\n",
            "41     341  sunflower\n",
            "42     226  sunflower\n",
            "43     320  sunflower\n",
            "44     295  sunflower\n",
            "45     334  sunflower\n",
            "46     322  sunflower\n",
            "47     297  sunflower\n",
            "48     318  sunflower\n",
            "49     325   meatmeal\n",
            "50     257   meatmeal\n",
            "51     303   meatmeal\n",
            "52     315   meatmeal\n",
            "53     380   meatmeal\n",
            "54     153   meatmeal\n",
            "55     263   meatmeal\n",
            "56     242   meatmeal\n",
            "57     206   meatmeal\n",
            "58     344   meatmeal\n",
            "59     258   meatmeal\n",
            "60     368     casein\n",
            "61     390     casein\n",
            "62     379     casein\n",
            "63     260     casein\n",
            "64     404     casein\n",
            "65     318     casein\n",
            "66     352     casein\n",
            "67     359     casein\n",
            "68     216     casein\n",
            "69     222     casein\n",
            "70     283     casein\n",
            "71     332     casein\n"
          ]
        }
      ]
    },
    {
      "cell_type": "code",
      "source": [
        "# 1. Calcule o peso médio dos pintinhos (weight) para cada tipo de ração (feed).\n"
      ],
      "metadata": {
        "id": "snps0vLVHqoD"
      },
      "execution_count": 9,
      "outputs": []
    },
    {
      "cell_type": "code",
      "source": [
        "# 2. Identifique a ração que resultou no maior peso médio.\n"
      ],
      "metadata": {
        "id": "nCkROe29HuU8"
      },
      "execution_count": 10,
      "outputs": []
    },
    {
      "cell_type": "code",
      "source": [
        "# 3. Crie uma tabela que mostre o peso máximo, mínimo e médio para cada tipo de ração.\n"
      ],
      "metadata": {
        "id": "Wj0uhTTJHwXl"
      },
      "execution_count": null,
      "outputs": []
    }
  ]
}