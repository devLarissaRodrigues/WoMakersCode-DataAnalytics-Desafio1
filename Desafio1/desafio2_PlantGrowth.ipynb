{
  "nbformat": 4,
  "nbformat_minor": 0,
  "metadata": {
    "colab": {
      "provenance": [],
      "authorship_tag": "ABX9TyPYvrKOGtlJFLFrtwXM9dI5",
      "include_colab_link": true
    },
    "kernelspec": {
      "name": "python3",
      "display_name": "Python 3"
    },
    "language_info": {
      "name": "python"
    }
  },
  "cells": [
    {
      "cell_type": "markdown",
      "metadata": {
        "id": "view-in-github",
        "colab_type": "text"
      },
      "source": [
        "<a href=\"https://colab.research.google.com/github/devLarissaRodrigues/WoMakersCode-DataAnalytics-Desafio1/blob/desafio2-PlantGrowth/desafio2_PlantGrowth.ipynb\" target=\"_parent\"><img src=\"https://colab.research.google.com/assets/colab-badge.svg\" alt=\"Open In Colab\"/></a>"
      ]
    },
    {
      "cell_type": "code",
      "execution_count": 1,
      "metadata": {
        "id": "fD_F8PeH45dW",
        "colab": {
          "base_uri": "https://localhost:8080/"
        },
        "outputId": "a8592a77-2d1f-4f54-db49-3659fe3efe9c"
      },
      "outputs": [
        {
          "output_type": "stream",
          "name": "stdout",
          "text": [
            "Collecting pydataset\n",
            "  Downloading pydataset-0.2.0.tar.gz (15.9 MB)\n",
            "\u001b[2K     \u001b[90m━━━━━━━━━━━━━━━━━━━━━━━━━━━━━━━━━━━━━━━━\u001b[0m \u001b[32m15.9/15.9 MB\u001b[0m \u001b[31m24.7 MB/s\u001b[0m eta \u001b[36m0:00:00\u001b[0m\n",
            "\u001b[?25h  Preparing metadata (setup.py) ... \u001b[?25l\u001b[?25hdone\n",
            "Requirement already satisfied: pandas in /usr/local/lib/python3.11/dist-packages (from pydataset) (2.2.2)\n",
            "Requirement already satisfied: numpy>=1.23.2 in /usr/local/lib/python3.11/dist-packages (from pandas->pydataset) (1.26.4)\n",
            "Requirement already satisfied: python-dateutil>=2.8.2 in /usr/local/lib/python3.11/dist-packages (from pandas->pydataset) (2.8.2)\n",
            "Requirement already satisfied: pytz>=2020.1 in /usr/local/lib/python3.11/dist-packages (from pandas->pydataset) (2025.1)\n",
            "Requirement already satisfied: tzdata>=2022.7 in /usr/local/lib/python3.11/dist-packages (from pandas->pydataset) (2025.1)\n",
            "Requirement already satisfied: six>=1.5 in /usr/local/lib/python3.11/dist-packages (from python-dateutil>=2.8.2->pandas->pydataset) (1.17.0)\n",
            "Building wheels for collected packages: pydataset\n",
            "  Building wheel for pydataset (setup.py) ... \u001b[?25l\u001b[?25hdone\n",
            "  Created wheel for pydataset: filename=pydataset-0.2.0-py3-none-any.whl size=15939417 sha256=117c008e471cf5779a0ff8df0d13b96a885fa56c3e1800467bfd2a780e9eff6e\n",
            "  Stored in directory: /root/.cache/pip/wheels/29/93/3f/af54c413cecaac292940342c61882d2a8848674175d0bb0889\n",
            "Successfully built pydataset\n",
            "Installing collected packages: pydataset\n",
            "Successfully installed pydataset-0.2.0\n"
          ]
        }
      ],
      "source": [
        "!pip install pydataset"
      ]
    },
    {
      "cell_type": "code",
      "source": [
        "import pandas as pd\n",
        "from pydataset import data"
      ],
      "metadata": {
        "colab": {
          "base_uri": "https://localhost:8080/"
        },
        "id": "0C0mOzHd5Y3g",
        "outputId": "191d5325-1aeb-460f-bbe9-dc08f894192b"
      },
      "execution_count": 2,
      "outputs": [
        {
          "output_type": "stream",
          "name": "stdout",
          "text": [
            "initiated datasets repo at: /root/.pydataset/\n"
          ]
        }
      ]
    },
    {
      "cell_type": "code",
      "source": [
        "# Importando o dataset:\n",
        "df = data('PlantGrowth')\n",
        "print(df)"
      ],
      "metadata": {
        "colab": {
          "base_uri": "https://localhost:8080/"
        },
        "id": "pMrSS0IZ5ezh",
        "outputId": "d6b3f85a-34b2-4f95-97b9-fdbbd5052f0c"
      },
      "execution_count": 4,
      "outputs": [
        {
          "output_type": "stream",
          "name": "stdout",
          "text": [
            "    weight group\n",
            "1     4.17  ctrl\n",
            "2     5.58  ctrl\n",
            "3     5.18  ctrl\n",
            "4     6.11  ctrl\n",
            "5     4.50  ctrl\n",
            "6     4.61  ctrl\n",
            "7     5.17  ctrl\n",
            "8     4.53  ctrl\n",
            "9     5.33  ctrl\n",
            "10    5.14  ctrl\n",
            "11    4.81  trt1\n",
            "12    4.17  trt1\n",
            "13    4.41  trt1\n",
            "14    3.59  trt1\n",
            "15    5.87  trt1\n",
            "16    3.83  trt1\n",
            "17    6.03  trt1\n",
            "18    4.89  trt1\n",
            "19    4.32  trt1\n",
            "20    4.69  trt1\n",
            "21    6.31  trt2\n",
            "22    5.12  trt2\n",
            "23    5.54  trt2\n",
            "24    5.50  trt2\n",
            "25    5.37  trt2\n",
            "26    5.29  trt2\n",
            "27    4.92  trt2\n",
            "28    6.15  trt2\n",
            "29    5.80  trt2\n",
            "30    5.26  trt2\n"
          ]
        }
      ]
    },
    {
      "cell_type": "code",
      "source": [
        "# 1. Calcule a média do peso (weight) para cada grupo (group)\n",
        "media_por_peso_por_grupo = df.groupby(\"group\")[\"weight\"].mean()\n",
        "print(\"Media do peso por grupo: \")\n",
        "print(media_por_peso_por_grupo)\n"
      ],
      "metadata": {
        "colab": {
          "base_uri": "https://localhost:8080/"
        },
        "id": "xzj99z9I6B-t",
        "outputId": "aa1d42dc-3de9-40ad-983e-f8277704e71e"
      },
      "execution_count": 20,
      "outputs": [
        {
          "output_type": "stream",
          "name": "stdout",
          "text": [
            "Media do peso por grupo: \n",
            "group\n",
            "ctrl    5.032\n",
            "trt1    4.661\n",
            "trt2    5.526\n",
            "Name: weight, dtype: float64\n"
          ]
        }
      ]
    },
    {
      "cell_type": "code",
      "source": [
        "# 2. Verifique se algum grupo tem peso médio maior que 6\n",
        "grupos_acima_6 = media_por_peso_por_grupo[media_por_peso_por_grupo > 6]\n",
        "if not grupos_acima_6.empty:\n",
        "    print(\"\\nGrupos com peso médio maior que 6:\")\n",
        "    print(grupos_acima_6)\n",
        "else:\n",
        "    print(\"\\nNenhum grupo tem peso médio maior que 6.\")\n",
        "\n"
      ],
      "metadata": {
        "colab": {
          "base_uri": "https://localhost:8080/"
        },
        "id": "O4zeNdKM6JyK",
        "outputId": "c1987269-a26a-4bf0-dd20-11fe4298b293"
      },
      "execution_count": 24,
      "outputs": [
        {
          "output_type": "stream",
          "name": "stdout",
          "text": [
            "\n",
            "Nenhum grupo tem peso médio maior que 6.\n"
          ]
        }
      ]
    },
    {
      "cell_type": "code",
      "source": [
        "# 3. Crie uma tabela mostrando o peso máximo e mínimo por grupo.\n",
        "peso_max_min_por_grupo = df.groupby(\"group\")[\"weight\"].agg([\"max\", \"min\"])\n",
        "print(\"Peso máximo e mínimo por grupo é dado por: \")\n",
        "print(peso_max_min_por_grupo)\n"
      ],
      "metadata": {
        "colab": {
          "base_uri": "https://localhost:8080/"
        },
        "id": "GzM8Gs9T6O41",
        "outputId": "8de7d1de-5c59-451e-edc0-ce00b575391c"
      },
      "execution_count": 17,
      "outputs": [
        {
          "output_type": "stream",
          "name": "stdout",
          "text": [
            "Peso máximo e mínimo por grupo é dado por: \n",
            "        max   min\n",
            "group            \n",
            "ctrl   6.11  4.17\n",
            "trt1   6.03  3.59\n",
            "trt2   6.31  4.92\n"
          ]
        }
      ]
    }
  ]
}