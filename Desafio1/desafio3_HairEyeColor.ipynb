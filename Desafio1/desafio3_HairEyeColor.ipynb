{
  "nbformat": 4,
  "nbformat_minor": 0,
  "metadata": {
    "colab": {
      "provenance": [],
      "authorship_tag": "ABX9TyNSj8gYuwnmBkvZBKSmCr+E",
      "include_colab_link": true
    },
    "kernelspec": {
      "name": "python3",
      "display_name": "Python 3"
    },
    "language_info": {
      "name": "python"
    }
  },
  "cells": [
    {
      "cell_type": "markdown",
      "metadata": {
        "id": "view-in-github",
        "colab_type": "text"
      },
      "source": [
        "<a href=\"https://colab.research.google.com/github/devLarissaRodrigues/WoMakersCode-DataAnalytics-Desafio1/blob/desafio3-HairEyeColor/desafio3_HairEyeColor.ipynb\" target=\"_parent\"><img src=\"https://colab.research.google.com/assets/colab-badge.svg\" alt=\"Open In Colab\"/></a>"
      ]
    },
    {
      "cell_type": "code",
      "execution_count": 3,
      "metadata": {
        "id": "bxp4AKln_-sZ",
        "outputId": "d108e6f8-aaa8-4bfc-84f7-35b33f408653",
        "colab": {
          "base_uri": "https://localhost:8080/"
        }
      },
      "outputs": [
        {
          "output_type": "stream",
          "name": "stdout",
          "text": [
            "Collecting pydataset\n",
            "  Downloading pydataset-0.2.0.tar.gz (15.9 MB)\n",
            "\u001b[2K     \u001b[90m━━━━━━━━━━━━━━━━━━━━━━━━━━━━━━━━━━━━━━━━\u001b[0m \u001b[32m15.9/15.9 MB\u001b[0m \u001b[31m62.0 MB/s\u001b[0m eta \u001b[36m0:00:00\u001b[0m\n",
            "\u001b[?25h  Preparing metadata (setup.py) ... \u001b[?25l\u001b[?25hdone\n",
            "Requirement already satisfied: pandas in /usr/local/lib/python3.11/dist-packages (from pydataset) (2.2.2)\n",
            "Requirement already satisfied: numpy>=1.23.2 in /usr/local/lib/python3.11/dist-packages (from pandas->pydataset) (1.26.4)\n",
            "Requirement already satisfied: python-dateutil>=2.8.2 in /usr/local/lib/python3.11/dist-packages (from pandas->pydataset) (2.8.2)\n",
            "Requirement already satisfied: pytz>=2020.1 in /usr/local/lib/python3.11/dist-packages (from pandas->pydataset) (2025.1)\n",
            "Requirement already satisfied: tzdata>=2022.7 in /usr/local/lib/python3.11/dist-packages (from pandas->pydataset) (2025.1)\n",
            "Requirement already satisfied: six>=1.5 in /usr/local/lib/python3.11/dist-packages (from python-dateutil>=2.8.2->pandas->pydataset) (1.17.0)\n",
            "Building wheels for collected packages: pydataset\n",
            "  Building wheel for pydataset (setup.py) ... \u001b[?25l\u001b[?25hdone\n",
            "  Created wheel for pydataset: filename=pydataset-0.2.0-py3-none-any.whl size=15939417 sha256=563af744a0f9887d1f567f164f7c0a0292c1a0d27cf298424a8f9538ae88ec09\n",
            "  Stored in directory: /root/.cache/pip/wheels/29/93/3f/af54c413cecaac292940342c61882d2a8848674175d0bb0889\n",
            "Successfully built pydataset\n",
            "Installing collected packages: pydataset\n",
            "Successfully installed pydataset-0.2.0\n"
          ]
        }
      ],
      "source": [
        "!pip install pydataset"
      ]
    },
    {
      "cell_type": "code",
      "source": [
        "import pandas as pd\n",
        "from pydataset import data"
      ],
      "metadata": {
        "id": "jiJMZ1TVAPub"
      },
      "execution_count": 8,
      "outputs": []
    },
    {
      "cell_type": "code",
      "source": [
        "# Importando o dataset\n",
        "df = data('HairEyeColor')\n",
        "print(df)"
      ],
      "metadata": {
        "id": "VdOkav35A5pz",
        "outputId": "130aebd2-5365-4fe2-8a1a-1986423ba998",
        "colab": {
          "base_uri": "https://localhost:8080/"
        }
      },
      "execution_count": 11,
      "outputs": [
        {
          "output_type": "stream",
          "name": "stdout",
          "text": [
            "     Hair    Eye     Sex  Freq\n",
            "1   Black  Brown    Male    32\n",
            "2   Brown  Brown    Male    53\n",
            "3     Red  Brown    Male    10\n",
            "4   Blond  Brown    Male     3\n",
            "5   Black   Blue    Male    11\n",
            "6   Brown   Blue    Male    50\n",
            "7     Red   Blue    Male    10\n",
            "8   Blond   Blue    Male    30\n",
            "9   Black  Hazel    Male    10\n",
            "10  Brown  Hazel    Male    25\n",
            "11    Red  Hazel    Male     7\n",
            "12  Blond  Hazel    Male     5\n",
            "13  Black  Green    Male     3\n",
            "14  Brown  Green    Male    15\n",
            "15    Red  Green    Male     7\n",
            "16  Blond  Green    Male     8\n",
            "17  Black  Brown  Female    36\n",
            "18  Brown  Brown  Female    66\n",
            "19    Red  Brown  Female    16\n",
            "20  Blond  Brown  Female     4\n",
            "21  Black   Blue  Female     9\n",
            "22  Brown   Blue  Female    34\n",
            "23    Red   Blue  Female     7\n",
            "24  Blond   Blue  Female    64\n",
            "25  Black  Hazel  Female     5\n",
            "26  Brown  Hazel  Female    29\n",
            "27    Red  Hazel  Female     7\n",
            "28  Blond  Hazel  Female     5\n",
            "29  Black  Green  Female     2\n",
            "30  Brown  Green  Female    14\n",
            "31    Red  Green  Female     7\n",
            "32  Blond  Green  Female     8\n"
          ]
        }
      ]
    },
    {
      "cell_type": "code",
      "source": [
        "# 1. Calcule o número total de pessoas para cada combinação de cor de cabelo (Hair) e cor dos olhos (Eye).\n",
        "numero_total_por_combinacao_cor_cabelo_olhos = df.groupby([\"Hair\", \"Eye\"])[\"Freq\"].sum().reset_index()\n",
        "print(\"Número total de pessoas por combinação de cor de cabelo e cor dos olhos:\")\n",
        "print(numero_total_por_combinacao_cor_cabelo_olhos)"
      ],
      "metadata": {
        "id": "w_4nE05gA6QL",
        "outputId": "1a5111c8-386e-4713-db1a-d9d40e2763fb",
        "colab": {
          "base_uri": "https://localhost:8080/"
        }
      },
      "execution_count": 17,
      "outputs": [
        {
          "output_type": "stream",
          "name": "stdout",
          "text": [
            "Número total de pessoas por combinação de cor de cabelo e cor dos olhos:\n",
            "     Hair    Eye  Freq\n",
            "0   Black   Blue    20\n",
            "1   Black  Brown    68\n",
            "2   Black  Green     5\n",
            "3   Black  Hazel    15\n",
            "4   Blond   Blue    94\n",
            "5   Blond  Brown     7\n",
            "6   Blond  Green    16\n",
            "7   Blond  Hazel    10\n",
            "8   Brown   Blue    84\n",
            "9   Brown  Brown   119\n",
            "10  Brown  Green    29\n",
            "11  Brown  Hazel    54\n",
            "12    Red   Blue    17\n",
            "13    Red  Brown    26\n",
            "14    Red  Green    14\n",
            "15    Red  Hazel    14\n",
            "\n",
            "A cor de cabelo mais comum entre pessoas com olhos castanhos é: Brown\n",
            "\n",
            "Tabela com a contagem total de pessoas por cor de cabelo:\n",
            "    Hair  Freq\n",
            "0  Black   108\n",
            "1  Blond   127\n",
            "2  Brown   286\n",
            "3    Red    71\n"
          ]
        }
      ]
    },
    {
      "cell_type": "code",
      "source": [
        "# 2. Encontre a cor de cabelo mais comum entre pessoas com olhos castanhos (Brown).\n",
        "brown_eyes = df[df[\"Eye\"] == \"Brown\"].groupby(\"Hair\")[\"Freq\"].sum()\n",
        "cor_cabelo_mais_comum = brown_eyes.idxmax()\n",
        "print(f\"\\nA cor de cabelo mais comum entre pessoas com olhos castanhos é: {cor_cabelo_mais_comum}\")"
      ],
      "metadata": {
        "id": "C8CfZSpMBDmQ",
        "outputId": "255c028d-5f90-4cb4-fb72-7678270cdeed",
        "colab": {
          "base_uri": "https://localhost:8080/"
        }
      },
      "execution_count": 18,
      "outputs": [
        {
          "output_type": "stream",
          "name": "stdout",
          "text": [
            "\n",
            "A cor de cabelo mais comum entre pessoas com olhos castanhos é: Brown\n"
          ]
        }
      ]
    },
    {
      "cell_type": "code",
      "source": [
        "# 3. Crie uma tabela com a contagem total de pessoas por cor de cabelo\n",
        "tabela_cabelo = df.groupby(\"Hair\")[\"Freq\"].sum().reset_index()\n",
        "print(\"\\nTabela com a contagem total de pessoas por cor de cabelo:\")\n",
        "print(tabela_cabelo)"
      ],
      "metadata": {
        "id": "ZhibBN0xBG9p",
        "outputId": "d6ae4635-b7b3-4f7a-c045-bcb6a9c44b47",
        "colab": {
          "base_uri": "https://localhost:8080/"
        }
      },
      "execution_count": 19,
      "outputs": [
        {
          "output_type": "stream",
          "name": "stdout",
          "text": [
            "\n",
            "Tabela com a contagem total de pessoas por cor de cabelo:\n",
            "    Hair  Freq\n",
            "0  Black   108\n",
            "1  Blond   127\n",
            "2  Brown   286\n",
            "3    Red    71\n"
          ]
        }
      ]
    }
  ]
}